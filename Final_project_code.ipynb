{
  "nbformat": 4,
  "nbformat_minor": 0,
  "metadata": {
    "colab": {
      "name": "Final_project_code.ipynb",
      "provenance": [],
      "include_colab_link": true
    },
    "kernelspec": {
      "name": "python3",
      "display_name": "Python 3"
    },
    "language_info": {
      "name": "python"
    }
  },
  "cells": [
    {
      "cell_type": "markdown",
      "metadata": {
        "id": "view-in-github",
        "colab_type": "text"
      },
      "source": [
        "<a href=\"https://colab.research.google.com/github/Sharath-11507563/Aspect-based-sentimental-analysis-on-Rulemaking-comments/blob/main/Final_project_code.ipynb\" target=\"_parent\"><img src=\"https://colab.research.google.com/assets/colab-badge.svg\" alt=\"Open In Colab\"/></a>"
      ]
    },
    {
      "cell_type": "code",
      "metadata": {
        "id": "6Dv6TIMjOfVn",
        "colab": {
          "base_uri": "https://localhost:8080/"
        },
        "outputId": "98434eb4-2f46-466a-bea4-05d07ae63fd3"
      },
      "source": [
        "import nltk, re, string\n",
        "import pandas as pd\n",
        "import io\n",
        "from nltk.corpus import stopwords\n",
        "from nltk.stem import WordNetLemmatizer, PorterStemmer\n",
        "from sklearn.model_selection import train_test_split\n",
        "from sklearn.feature_extraction.text import TfidfVectorizer\n",
        "from sklearn.feature_extraction.text import TfidfTransformer\n",
        "from sklearn import svm\n",
        "from sklearn.naive_bayes import MultinomialNB\n",
        "from sklearn.pipeline import Pipeline\n",
        "from sklearn.metrics import classification_report\n",
        "from sklearn.linear_model import SGDClassifier\n",
        "from sklearn.tree import DecisionTreeClassifier\n",
        "from sklearn.linear_model import LogisticRegression\n",
        "from sklearn.ensemble import RandomForestClassifier\n",
        "from sklearn.model_selection import cross_val_score\n",
        "from sklearn import metrics\n",
        "import seaborn as sn\n",
        "\n",
        "nltk.download(\"stopwords\")\n",
        "nltk.download('punkt')\n",
        "nltk.download('wordnet')"
      ],
      "execution_count": 31,
      "outputs": [
        {
          "output_type": "stream",
          "name": "stdout",
          "text": [
            "[nltk_data] Downloading package stopwords to /root/nltk_data...\n",
            "[nltk_data]   Package stopwords is already up-to-date!\n",
            "[nltk_data] Downloading package punkt to /root/nltk_data...\n",
            "[nltk_data]   Package punkt is already up-to-date!\n",
            "[nltk_data] Downloading package wordnet to /root/nltk_data...\n",
            "[nltk_data]   Package wordnet is already up-to-date!\n"
          ]
        },
        {
          "output_type": "execute_result",
          "data": {
            "text/plain": [
              "True"
            ]
          },
          "metadata": {},
          "execution_count": 31
        }
      ]
    },
    {
      "cell_type": "code",
      "source": [
        "url = 'https://raw.githubusercontent.com/Sharath-11507563/Aspect-based-sentimental-analysis-on-Rulemaking-comments/main/Data_with_aspects.csv'\n",
        "data = pd.read_csv(url)"
      ],
      "metadata": {
        "id": "VjHISr8cGOs4"
      },
      "execution_count": 32,
      "outputs": []
    },
    {
      "cell_type": "code",
      "metadata": {
        "colab": {
          "base_uri": "https://localhost:8080/",
          "height": 206
        },
        "id": "KuUc5g9fPFh5",
        "outputId": "594e8855-9e0f-4ced-a5ec-894ab6517956"
      },
      "source": [
        "data.head(5)"
      ],
      "execution_count": 33,
      "outputs": [
        {
          "output_type": "execute_result",
          "data": {
            "text/html": [
              "<div>\n",
              "<style scoped>\n",
              "    .dataframe tbody tr th:only-of-type {\n",
              "        vertical-align: middle;\n",
              "    }\n",
              "\n",
              "    .dataframe tbody tr th {\n",
              "        vertical-align: top;\n",
              "    }\n",
              "\n",
              "    .dataframe thead th {\n",
              "        text-align: right;\n",
              "    }\n",
              "</style>\n",
              "<table border=\"1\" class=\"dataframe\">\n",
              "  <thead>\n",
              "    <tr style=\"text-align: right;\">\n",
              "      <th></th>\n",
              "      <th>Docket_Id</th>\n",
              "      <th>Comment_Id</th>\n",
              "      <th>Comment</th>\n",
              "      <th>Aspect</th>\n",
              "      <th>Annotator 1</th>\n",
              "      <th>Annotator 2</th>\n",
              "      <th>Annotator 3</th>\n",
              "    </tr>\n",
              "  </thead>\n",
              "  <tbody>\n",
              "    <tr>\n",
              "      <th>0</th>\n",
              "      <td>FDA-2010-D-0277</td>\n",
              "      <td>FDA-2010-D-0277-0007</td>\n",
              "      <td>I am urging the support of FDA 2010-D-0277-000...</td>\n",
              "      <td>children and adolescents</td>\n",
              "      <td>Positive</td>\n",
              "      <td>positive</td>\n",
              "      <td>positive</td>\n",
              "    </tr>\n",
              "    <tr>\n",
              "      <th>1</th>\n",
              "      <td>FDA-2010-D-0277</td>\n",
              "      <td>FDA-2010-D-0277-0008</td>\n",
              "      <td>The Family Smoking Prevention and Tobacco Cont...</td>\n",
              "      <td>law</td>\n",
              "      <td>Positive</td>\n",
              "      <td>negative</td>\n",
              "      <td>negative</td>\n",
              "    </tr>\n",
              "    <tr>\n",
              "      <th>2</th>\n",
              "      <td>FDA-2010-D-0277</td>\n",
              "      <td>FDA-2010-D-0277-0010</td>\n",
              "      <td>As the director of a state tobacco control pro...</td>\n",
              "      <td>free distribution</td>\n",
              "      <td>Positive</td>\n",
              "      <td>positive</td>\n",
              "      <td>positive</td>\n",
              "    </tr>\n",
              "    <tr>\n",
              "      <th>3</th>\n",
              "      <td>FDA-2010-D-0277</td>\n",
              "      <td>FDA-2010-D-0277-0011</td>\n",
              "      <td>Please, for the protection, health and welfare...</td>\n",
              "      <td>children</td>\n",
              "      <td>Positive</td>\n",
              "      <td>negative</td>\n",
              "      <td>positive</td>\n",
              "    </tr>\n",
              "    <tr>\n",
              "      <th>4</th>\n",
              "      <td>FDA-2010-D-0277</td>\n",
              "      <td>FDA-2010-D-0277-0013</td>\n",
              "      <td>Cigars, little cigars, and pipe tobacco can ho...</td>\n",
              "      <td>young people</td>\n",
              "      <td>Positive</td>\n",
              "      <td>negative</td>\n",
              "      <td>positive</td>\n",
              "    </tr>\n",
              "  </tbody>\n",
              "</table>\n",
              "</div>"
            ],
            "text/plain": [
              "         Docket_Id            Comment_Id  ... Annotator 2 Annotator 3\n",
              "0  FDA-2010-D-0277  FDA-2010-D-0277-0007  ...    positive    positive\n",
              "1  FDA-2010-D-0277  FDA-2010-D-0277-0008  ...    negative    negative\n",
              "2  FDA-2010-D-0277  FDA-2010-D-0277-0010  ...    positive    positive\n",
              "3  FDA-2010-D-0277  FDA-2010-D-0277-0011  ...    negative    positive\n",
              "4  FDA-2010-D-0277  FDA-2010-D-0277-0013  ...    negative    positive\n",
              "\n",
              "[5 rows x 7 columns]"
            ]
          },
          "metadata": {},
          "execution_count": 33
        }
      ]
    },
    {
      "cell_type": "code",
      "source": [
        "def find_index(comment, aspect):\n",
        "  aspect_list = aspect.split(\",\")\n",
        "  for aspect_ in aspect_list:\n",
        "    if aspect_.lower() in comment.lower():\n",
        "      index_ = comment.lower().find(aspect_)\n",
        "      if index_ == -1: return str(len(comment)-len(aspect_))+\"-\"+str(len(comment))\n",
        "      else: return str(index_)+\"-\"+str(index_+len(aspect_))"
      ],
      "metadata": {
        "id": "t42By_NYEqVf"
      },
      "execution_count": 34,
      "outputs": []
    },
    {
      "cell_type": "code",
      "metadata": {
        "id": "KMc7asy7PXZX"
      },
      "source": [
        "stopwords_list = stopwords.words('english') # importing stopwords\n",
        "punctuations_list = string.punctuation # get punctuations\n",
        "lemmatizer = WordNetLemmatizer() # initialize word lemmatizer\n",
        "\n",
        "def filter_annotation(annotator):\n",
        "  (annotator1, annotator2, annotator3) = annotator\n",
        "  if annotator1.lower()[:3]=='pos' and annotator2.lower()[:3]=='pos' and annotator3.lower()[:3]=='pos': return \"Positive\"\n",
        "  elif annotator1.lower()[:3]=='neg' and annotator2.lower()[:3]=='neg' and annotator3.lower()[:3]=='neg': return \"Negative\"\n",
        "  elif annotator1.lower()[:3]=='neu' and annotator2.lower()[:3]=='neu' and annotator3.lower()[:3]=='neu': return \"Neutral\"\n",
        "  elif (annotator1.lower()[:3]=='pos' and annotator2.lower()[:3]=='pos') or  (annotator2.lower()[:3]=='pos' and annotator3.lower()[:3]=='pos') or (annotator3.lower()[:3]=='pos' and annotator1.lower()[:3]=='pos'): return \"Positive\"\n",
        "  elif (annotator1.lower()[:3]=='neg' and annotator2.lower()[:3]=='neg') or (annotator2.lower()[:3]=='neg' and annotator3.lower()[:3]=='neg') or (annotator3.lower()[:3]=='neg' and annotator1.lower()[:3]=='neg'): return \"Negative\"\n",
        "  elif (annotator1.lower()[:3]=='neu' and annotator2.lower()[:3]=='neu') or (annotator2.lower()[:3]=='neu' and annotator3.lower()[:3]=='neu') or (annotator3.lower()[:3]=='neu' and annotator1.lower()[:3]=='neu'): return \"Neutral\"\n",
        "  else: return 'Neutral'\n",
        "\n",
        "def preprocessing(text):\n",
        "    \"\"\"\n",
        "    This function will clean the given text\n",
        "    \"\"\"\n",
        "    text = re.sub('<[^>]*>', '', text)\n",
        "    emoticons = re.findall('(?::|;|=)(?:-)?(?:\\)|\\(|D|P)', text)\n",
        "    text = re.sub('[\\W]+', ' ', text.lower())\n",
        "    text = text + \" \".join(emoticons).replace('-', '')\n",
        "    tokenize_text = [lemmatizer.lemmatize(word) for word in nltk.tokenize.word_tokenize(text) \n",
        "                     if (word not in stopwords_list) and (word not in punctuations_list) and (len(word)>=2) and (word.isalpha())]\n",
        "    return \" \".join(tokenize_text)"
      ],
      "execution_count": 35,
      "outputs": []
    },
    {
      "cell_type": "code",
      "metadata": {
        "colab": {
          "base_uri": "https://localhost:8080/",
          "height": 310
        },
        "id": "Ose9uKrihudR",
        "outputId": "2e4a434d-43da-4090-f66f-85be4a191f29"
      },
      "source": [
        "data[\"Comment\"] = data[\"Comment\"].apply(str)\n",
        "data[\"Clean_Comment\"] = data[\"Comment\"].apply(preprocessing)\n",
        "data[\"Aspect Index\"] = data[['Comment','Aspect']].apply(lambda x: find_index(*x), axis=1)\n",
        "data.head(5)"
      ],
      "execution_count": 36,
      "outputs": [
        {
          "output_type": "execute_result",
          "data": {
            "text/html": [
              "<div>\n",
              "<style scoped>\n",
              "    .dataframe tbody tr th:only-of-type {\n",
              "        vertical-align: middle;\n",
              "    }\n",
              "\n",
              "    .dataframe tbody tr th {\n",
              "        vertical-align: top;\n",
              "    }\n",
              "\n",
              "    .dataframe thead th {\n",
              "        text-align: right;\n",
              "    }\n",
              "</style>\n",
              "<table border=\"1\" class=\"dataframe\">\n",
              "  <thead>\n",
              "    <tr style=\"text-align: right;\">\n",
              "      <th></th>\n",
              "      <th>Docket_Id</th>\n",
              "      <th>Comment_Id</th>\n",
              "      <th>Comment</th>\n",
              "      <th>Aspect</th>\n",
              "      <th>Annotator 1</th>\n",
              "      <th>Annotator 2</th>\n",
              "      <th>Annotator 3</th>\n",
              "      <th>Clean_Comment</th>\n",
              "      <th>Aspect Index</th>\n",
              "    </tr>\n",
              "  </thead>\n",
              "  <tbody>\n",
              "    <tr>\n",
              "      <th>0</th>\n",
              "      <td>FDA-2010-D-0277</td>\n",
              "      <td>FDA-2010-D-0277-0007</td>\n",
              "      <td>I am urging the support of FDA 2010-D-0277-000...</td>\n",
              "      <td>children and adolescents</td>\n",
              "      <td>Positive</td>\n",
              "      <td>positive</td>\n",
              "      <td>positive</td>\n",
              "      <td>urging support fda support effort protecting c...</td>\n",
              "      <td>81-105</td>\n",
              "    </tr>\n",
              "    <tr>\n",
              "      <th>1</th>\n",
              "      <td>FDA-2010-D-0277</td>\n",
              "      <td>FDA-2010-D-0277-0008</td>\n",
              "      <td>The Family Smoking Prevention and Tobacco Cont...</td>\n",
              "      <td>law</td>\n",
              "      <td>Positive</td>\n",
              "      <td>negative</td>\n",
              "      <td>negative</td>\n",
              "      <td>family smoking prevention tobacco control act ...</td>\n",
              "      <td>92-95</td>\n",
              "    </tr>\n",
              "    <tr>\n",
              "      <th>2</th>\n",
              "      <td>FDA-2010-D-0277</td>\n",
              "      <td>FDA-2010-D-0277-0010</td>\n",
              "      <td>As the director of a state tobacco control pro...</td>\n",
              "      <td>free distribution</td>\n",
              "      <td>Positive</td>\n",
              "      <td>positive</td>\n",
              "      <td>positive</td>\n",
              "      <td>director state tobacco control program would s...</td>\n",
              "      <td>158-175</td>\n",
              "    </tr>\n",
              "    <tr>\n",
              "      <th>3</th>\n",
              "      <td>FDA-2010-D-0277</td>\n",
              "      <td>FDA-2010-D-0277-0011</td>\n",
              "      <td>Please, for the protection, health and welfare...</td>\n",
              "      <td>children</td>\n",
              "      <td>Positive</td>\n",
              "      <td>negative</td>\n",
              "      <td>positive</td>\n",
              "      <td>please protection health welfare child free to...</td>\n",
              "      <td>54-62</td>\n",
              "    </tr>\n",
              "    <tr>\n",
              "      <th>4</th>\n",
              "      <td>FDA-2010-D-0277</td>\n",
              "      <td>FDA-2010-D-0277-0013</td>\n",
              "      <td>Cigars, little cigars, and pipe tobacco can ho...</td>\n",
              "      <td>young people</td>\n",
              "      <td>Positive</td>\n",
              "      <td>negative</td>\n",
              "      <td>positive</td>\n",
              "      <td>cigar little cigar pipe tobacco hook young peo...</td>\n",
              "      <td>49-61</td>\n",
              "    </tr>\n",
              "  </tbody>\n",
              "</table>\n",
              "</div>"
            ],
            "text/plain": [
              "         Docket_Id  ... Aspect Index\n",
              "0  FDA-2010-D-0277  ...       81-105\n",
              "1  FDA-2010-D-0277  ...        92-95\n",
              "2  FDA-2010-D-0277  ...      158-175\n",
              "3  FDA-2010-D-0277  ...        54-62\n",
              "4  FDA-2010-D-0277  ...        49-61\n",
              "\n",
              "[5 rows x 9 columns]"
            ]
          },
          "metadata": {},
          "execution_count": 36
        }
      ]
    },
    {
      "cell_type": "code",
      "metadata": {
        "id": "Rzzp4DHjWaBX"
      },
      "source": [
        "annotator = list(zip(data[\"Annotator 1\"], data[\"Annotator 2\"], data[\"Annotator 3\"]))\n",
        "data[\"Annotator\"] = list(map(filter_annotation, annotator))"
      ],
      "execution_count": 37,
      "outputs": []
    },
    {
      "cell_type": "code",
      "metadata": {
        "colab": {
          "base_uri": "https://localhost:8080/",
          "height": 397
        },
        "id": "68qZt5tNgutV",
        "outputId": "768f3fd9-a719-44ca-8655-b0558be0c899"
      },
      "source": [
        "def absolute_sentiment(sentiment):\n",
        "  if sentiment==\"Positive\": return 1\n",
        "  elif sentiment==\"Negative\": return -1\n",
        "  else: return 0\n",
        "  \n",
        "data['Triple_Sentiments'] = data['Annotator'].apply(absolute_sentiment)\n",
        "data['Single_Sentiments'] = data['Annotator 1'].apply(absolute_sentiment)\n",
        "data.head(5)"
      ],
      "execution_count": 38,
      "outputs": [
        {
          "output_type": "execute_result",
          "data": {
            "text/html": [
              "<div>\n",
              "<style scoped>\n",
              "    .dataframe tbody tr th:only-of-type {\n",
              "        vertical-align: middle;\n",
              "    }\n",
              "\n",
              "    .dataframe tbody tr th {\n",
              "        vertical-align: top;\n",
              "    }\n",
              "\n",
              "    .dataframe thead th {\n",
              "        text-align: right;\n",
              "    }\n",
              "</style>\n",
              "<table border=\"1\" class=\"dataframe\">\n",
              "  <thead>\n",
              "    <tr style=\"text-align: right;\">\n",
              "      <th></th>\n",
              "      <th>Docket_Id</th>\n",
              "      <th>Comment_Id</th>\n",
              "      <th>Comment</th>\n",
              "      <th>Aspect</th>\n",
              "      <th>Annotator 1</th>\n",
              "      <th>Annotator 2</th>\n",
              "      <th>Annotator 3</th>\n",
              "      <th>Clean_Comment</th>\n",
              "      <th>Aspect Index</th>\n",
              "      <th>Annotator</th>\n",
              "      <th>Triple_Sentiments</th>\n",
              "      <th>Single_Sentiments</th>\n",
              "    </tr>\n",
              "  </thead>\n",
              "  <tbody>\n",
              "    <tr>\n",
              "      <th>0</th>\n",
              "      <td>FDA-2010-D-0277</td>\n",
              "      <td>FDA-2010-D-0277-0007</td>\n",
              "      <td>I am urging the support of FDA 2010-D-0277-000...</td>\n",
              "      <td>children and adolescents</td>\n",
              "      <td>Positive</td>\n",
              "      <td>positive</td>\n",
              "      <td>positive</td>\n",
              "      <td>urging support fda support effort protecting c...</td>\n",
              "      <td>81-105</td>\n",
              "      <td>Positive</td>\n",
              "      <td>1</td>\n",
              "      <td>1</td>\n",
              "    </tr>\n",
              "    <tr>\n",
              "      <th>1</th>\n",
              "      <td>FDA-2010-D-0277</td>\n",
              "      <td>FDA-2010-D-0277-0008</td>\n",
              "      <td>The Family Smoking Prevention and Tobacco Cont...</td>\n",
              "      <td>law</td>\n",
              "      <td>Positive</td>\n",
              "      <td>negative</td>\n",
              "      <td>negative</td>\n",
              "      <td>family smoking prevention tobacco control act ...</td>\n",
              "      <td>92-95</td>\n",
              "      <td>Negative</td>\n",
              "      <td>-1</td>\n",
              "      <td>1</td>\n",
              "    </tr>\n",
              "    <tr>\n",
              "      <th>2</th>\n",
              "      <td>FDA-2010-D-0277</td>\n",
              "      <td>FDA-2010-D-0277-0010</td>\n",
              "      <td>As the director of a state tobacco control pro...</td>\n",
              "      <td>free distribution</td>\n",
              "      <td>Positive</td>\n",
              "      <td>positive</td>\n",
              "      <td>positive</td>\n",
              "      <td>director state tobacco control program would s...</td>\n",
              "      <td>158-175</td>\n",
              "      <td>Positive</td>\n",
              "      <td>1</td>\n",
              "      <td>1</td>\n",
              "    </tr>\n",
              "    <tr>\n",
              "      <th>3</th>\n",
              "      <td>FDA-2010-D-0277</td>\n",
              "      <td>FDA-2010-D-0277-0011</td>\n",
              "      <td>Please, for the protection, health and welfare...</td>\n",
              "      <td>children</td>\n",
              "      <td>Positive</td>\n",
              "      <td>negative</td>\n",
              "      <td>positive</td>\n",
              "      <td>please protection health welfare child free to...</td>\n",
              "      <td>54-62</td>\n",
              "      <td>Positive</td>\n",
              "      <td>1</td>\n",
              "      <td>1</td>\n",
              "    </tr>\n",
              "    <tr>\n",
              "      <th>4</th>\n",
              "      <td>FDA-2010-D-0277</td>\n",
              "      <td>FDA-2010-D-0277-0013</td>\n",
              "      <td>Cigars, little cigars, and pipe tobacco can ho...</td>\n",
              "      <td>young people</td>\n",
              "      <td>Positive</td>\n",
              "      <td>negative</td>\n",
              "      <td>positive</td>\n",
              "      <td>cigar little cigar pipe tobacco hook young peo...</td>\n",
              "      <td>49-61</td>\n",
              "      <td>Positive</td>\n",
              "      <td>1</td>\n",
              "      <td>1</td>\n",
              "    </tr>\n",
              "  </tbody>\n",
              "</table>\n",
              "</div>"
            ],
            "text/plain": [
              "         Docket_Id            Comment_Id  ... Triple_Sentiments Single_Sentiments\n",
              "0  FDA-2010-D-0277  FDA-2010-D-0277-0007  ...                 1                 1\n",
              "1  FDA-2010-D-0277  FDA-2010-D-0277-0008  ...                -1                 1\n",
              "2  FDA-2010-D-0277  FDA-2010-D-0277-0010  ...                 1                 1\n",
              "3  FDA-2010-D-0277  FDA-2010-D-0277-0011  ...                 1                 1\n",
              "4  FDA-2010-D-0277  FDA-2010-D-0277-0013  ...                 1                 1\n",
              "\n",
              "[5 rows x 12 columns]"
            ]
          },
          "metadata": {},
          "execution_count": 38
        }
      ]
    },
    {
      "cell_type": "code",
      "source": [
        "data['Number of Sentences'] = data['Comment'].apply(lambda x: len(str(x).split(\".\")))\n",
        "data['Number of Words'] = data['Comment'].apply(lambda x: len(str(x).split(\" \")))\n",
        "data['Number of Characters'] = data['Comment'].str.len()\n",
        "def avg_word_length(sentence):\n",
        "  words = sentence.split()\n",
        "  if len(words) != 0:\n",
        "    return(sum(len(word) for word in words)/len(words))\n",
        "  else:\n",
        "    return None\n",
        "data['Average Word Length'] = data['Comment'].apply(lambda x: avg_word_length(x))\n",
        "stop = stopwords.words('english')\n",
        "data['Number of Stopwords'] = data['Comment'].apply(lambda x: len([x for x in x.split() if x in stop]))\n",
        "data['Number of numerics'] = data['Comment'].apply(lambda x: len([x for x in x.split() if x.isdigit()]))\n",
        "data['Number of upper case words'] = data['Comment'].apply(lambda x: len([x for x in x.split() if x.isupper()]))\n",
        "data.head(5)"
      ],
      "metadata": {
        "colab": {
          "base_uri": "https://localhost:8080/",
          "height": 591
        },
        "id": "yBUvrhFCFrn1",
        "outputId": "130b09d5-0514-4419-dbf2-4172cba255e9"
      },
      "execution_count": 39,
      "outputs": [
        {
          "output_type": "execute_result",
          "data": {
            "text/html": [
              "<div>\n",
              "<style scoped>\n",
              "    .dataframe tbody tr th:only-of-type {\n",
              "        vertical-align: middle;\n",
              "    }\n",
              "\n",
              "    .dataframe tbody tr th {\n",
              "        vertical-align: top;\n",
              "    }\n",
              "\n",
              "    .dataframe thead th {\n",
              "        text-align: right;\n",
              "    }\n",
              "</style>\n",
              "<table border=\"1\" class=\"dataframe\">\n",
              "  <thead>\n",
              "    <tr style=\"text-align: right;\">\n",
              "      <th></th>\n",
              "      <th>Docket_Id</th>\n",
              "      <th>Comment_Id</th>\n",
              "      <th>Comment</th>\n",
              "      <th>Aspect</th>\n",
              "      <th>Annotator 1</th>\n",
              "      <th>Annotator 2</th>\n",
              "      <th>Annotator 3</th>\n",
              "      <th>Clean_Comment</th>\n",
              "      <th>Aspect Index</th>\n",
              "      <th>Annotator</th>\n",
              "      <th>Triple_Sentiments</th>\n",
              "      <th>Single_Sentiments</th>\n",
              "      <th>Number of Sentences</th>\n",
              "      <th>Number of Words</th>\n",
              "      <th>Number of Characters</th>\n",
              "      <th>Average Word Length</th>\n",
              "      <th>Number of Stopwords</th>\n",
              "      <th>Number of numerics</th>\n",
              "      <th>Number of upper case words</th>\n",
              "    </tr>\n",
              "  </thead>\n",
              "  <tbody>\n",
              "    <tr>\n",
              "      <th>0</th>\n",
              "      <td>FDA-2010-D-0277</td>\n",
              "      <td>FDA-2010-D-0277-0007</td>\n",
              "      <td>I am urging the support of FDA 2010-D-0277-000...</td>\n",
              "      <td>children and adolescents</td>\n",
              "      <td>Positive</td>\n",
              "      <td>positive</td>\n",
              "      <td>positive</td>\n",
              "      <td>urging support fda support effort protecting c...</td>\n",
              "      <td>81-105</td>\n",
              "      <td>Positive</td>\n",
              "      <td>1</td>\n",
              "      <td>1</td>\n",
              "      <td>5</td>\n",
              "      <td>75</td>\n",
              "      <td>459</td>\n",
              "      <td>5.133333</td>\n",
              "      <td>32</td>\n",
              "      <td>0</td>\n",
              "      <td>4</td>\n",
              "    </tr>\n",
              "    <tr>\n",
              "      <th>1</th>\n",
              "      <td>FDA-2010-D-0277</td>\n",
              "      <td>FDA-2010-D-0277-0008</td>\n",
              "      <td>The Family Smoking Prevention and Tobacco Cont...</td>\n",
              "      <td>law</td>\n",
              "      <td>Positive</td>\n",
              "      <td>negative</td>\n",
              "      <td>negative</td>\n",
              "      <td>family smoking prevention tobacco control act ...</td>\n",
              "      <td>92-95</td>\n",
              "      <td>Negative</td>\n",
              "      <td>-1</td>\n",
              "      <td>1</td>\n",
              "      <td>6</td>\n",
              "      <td>142</td>\n",
              "      <td>908</td>\n",
              "      <td>5.401408</td>\n",
              "      <td>46</td>\n",
              "      <td>3</td>\n",
              "      <td>3</td>\n",
              "    </tr>\n",
              "    <tr>\n",
              "      <th>2</th>\n",
              "      <td>FDA-2010-D-0277</td>\n",
              "      <td>FDA-2010-D-0277-0010</td>\n",
              "      <td>As the director of a state tobacco control pro...</td>\n",
              "      <td>free distribution</td>\n",
              "      <td>Positive</td>\n",
              "      <td>positive</td>\n",
              "      <td>positive</td>\n",
              "      <td>director state tobacco control program would s...</td>\n",
              "      <td>158-175</td>\n",
              "      <td>Positive</td>\n",
              "      <td>1</td>\n",
              "      <td>1</td>\n",
              "      <td>4</td>\n",
              "      <td>75</td>\n",
              "      <td>495</td>\n",
              "      <td>5.613333</td>\n",
              "      <td>25</td>\n",
              "      <td>0</td>\n",
              "      <td>1</td>\n",
              "    </tr>\n",
              "    <tr>\n",
              "      <th>3</th>\n",
              "      <td>FDA-2010-D-0277</td>\n",
              "      <td>FDA-2010-D-0277-0011</td>\n",
              "      <td>Please, for the protection, health and welfare...</td>\n",
              "      <td>children</td>\n",
              "      <td>Positive</td>\n",
              "      <td>negative</td>\n",
              "      <td>positive</td>\n",
              "      <td>please protection health welfare child free to...</td>\n",
              "      <td>54-62</td>\n",
              "      <td>Positive</td>\n",
              "      <td>1</td>\n",
              "      <td>1</td>\n",
              "      <td>4</td>\n",
              "      <td>61</td>\n",
              "      <td>359</td>\n",
              "      <td>4.901639</td>\n",
              "      <td>23</td>\n",
              "      <td>0</td>\n",
              "      <td>2</td>\n",
              "    </tr>\n",
              "    <tr>\n",
              "      <th>4</th>\n",
              "      <td>FDA-2010-D-0277</td>\n",
              "      <td>FDA-2010-D-0277-0013</td>\n",
              "      <td>Cigars, little cigars, and pipe tobacco can ho...</td>\n",
              "      <td>young people</td>\n",
              "      <td>Positive</td>\n",
              "      <td>negative</td>\n",
              "      <td>positive</td>\n",
              "      <td>cigar little cigar pipe tobacco hook young peo...</td>\n",
              "      <td>49-61</td>\n",
              "      <td>Positive</td>\n",
              "      <td>1</td>\n",
              "      <td>1</td>\n",
              "      <td>3</td>\n",
              "      <td>26</td>\n",
              "      <td>178</td>\n",
              "      <td>5.884615</td>\n",
              "      <td>10</td>\n",
              "      <td>0</td>\n",
              "      <td>1</td>\n",
              "    </tr>\n",
              "  </tbody>\n",
              "</table>\n",
              "</div>"
            ],
            "text/plain": [
              "         Docket_Id  ... Number of upper case words\n",
              "0  FDA-2010-D-0277  ...                          4\n",
              "1  FDA-2010-D-0277  ...                          3\n",
              "2  FDA-2010-D-0277  ...                          1\n",
              "3  FDA-2010-D-0277  ...                          2\n",
              "4  FDA-2010-D-0277  ...                          1\n",
              "\n",
              "[5 rows x 19 columns]"
            ]
          },
          "metadata": {},
          "execution_count": 39
        }
      ]
    },
    {
      "cell_type": "code",
      "source": [
        "print('The maximum,mimimum and average Number of sentences are',data['Number of Sentences'].max(),',',data['Number of Sentences'].min(),',',data['Number of Sentences'].mean())\n",
        "print('The maximum,minimum and average Number of Words are',data['Number of Words'].max(),',',data['Number of Words'].min(),',',data['Number of Words'].mean())\n",
        "print('The maximum,mimimum and average Number of Characters are',data['Number of Characters'].max(),',',data['Number of Characters'].min(),',',data['Number of Characters'].mean())\n",
        "print('The maximum,mimimum and average of Average Word Length are',data['Average Word Length'].max(),',',data['Average Word Length'].min(),',',data['Average Word Length'].mean())\n",
        "print('The maximum,mimimum and average Number of Stopwords are',data['Number of Stopwords'].max(),',',data['Number of Stopwords'].min(),',',data['Number of Stopwords'].mean())\n",
        "print('The maximum,mimimum and average Number of numerics are',data['Number of numerics'].max(),',',data['Number of numerics'].min(),',',data['Number of numerics'].mean())\n",
        "print('The maximum,mimimum and average Number of upper case words are',data['Number of upper case words'].max(),',',data['Number of upper case words'].min(),',',data['Number of upper case words'].mean())"
      ],
      "metadata": {
        "colab": {
          "base_uri": "https://localhost:8080/"
        },
        "id": "4kJFNH-nM8vQ",
        "outputId": "af9cbd8f-9ef1-41b4-bcf0-0574088f5c6c"
      },
      "execution_count": 40,
      "outputs": [
        {
          "output_type": "stream",
          "name": "stdout",
          "text": [
            "The maximum,mimimum and average Number of sentences are 111 , 1 , 9.435871743486974\n",
            "The maximum,minimum and average Number of Words are 899 , 3 , 148.84068136272546\n",
            "The maximum,mimimum and average Number of Characters are 5042 , 13 , 904.5821643286573\n",
            "The maximum,mimimum and average of Average Word Length are 14.2 , 2.5 , 5.012063117688139\n",
            "The maximum,mimimum and average Number of Stopwords are 386 , 0 , 58.90480961923848\n",
            "The maximum,mimimum and average Number of numerics are 11 , 0 , 0.6863727454909819\n",
            "The maximum,mimimum and average Number of upper case words are 226 , 0 , 5.214428857715431\n"
          ]
        }
      ]
    },
    {
      "cell_type": "markdown",
      "source": [
        "#Triple annotation models"
      ],
      "metadata": {
        "id": "Z6nNskqHazd5"
      }
    },
    {
      "cell_type": "code",
      "metadata": {
        "id": "5tS_ySYug2tT"
      },
      "source": [
        "comment = data[\"Aspect\"]\n",
        "sentiment = data[\"Triple_Sentiments\"]"
      ],
      "execution_count": 41,
      "outputs": []
    },
    {
      "cell_type": "code",
      "metadata": {
        "id": "4acq80xviaVL"
      },
      "source": [
        "X_train, X_test, Y_train, Y_test = train_test_split(comment,sentiment, test_size = 0.3, random_state = 60,shuffle=True, stratify=sentiment)"
      ],
      "execution_count": 42,
      "outputs": []
    },
    {
      "cell_type": "code",
      "metadata": {
        "colab": {
          "base_uri": "https://localhost:8080/",
          "height": 533
        },
        "id": "DZxImUohid2i",
        "outputId": "ad72d7f8-615a-412c-9a2f-2f789fe89bac"
      },
      "source": [
        "nb_pipeline = Pipeline([('tfidf', TfidfVectorizer()), ('model', MultinomialNB()),])\n",
        "nb_pipeline.fit(X_train,Y_train)\n",
        "\n",
        "Y_pred = nb_pipeline.predict(X_test)\n",
        "\n",
        "confusion_matrix = pd.crosstab(Y_test, Y_pred, rownames=['Actual'], colnames=['Predicted'])\n",
        "sn.heatmap(confusion_matrix, annot=True, cmap='inferno')\n",
        "print('Accuracy: ',metrics.accuracy_score(Y_test, Y_pred))\n",
        "print(\"Navie Bayes accuracy on train data: \", round(nb_pipeline.score(X_train,Y_train)*100), '%')\n",
        "print(\"Navie Bayes accuracy on test data: \", round(nb_pipeline.score(X_test,Y_test)*100), '%')\n",
        "print(classification_report(Y_pred, Y_test))\n",
        "print('The Average Accuracy score for a ten-fold cross-validations is:',cross_val_score(nb_pipeline, comment, sentiment, cv=10, scoring ='accuracy').mean())"
      ],
      "execution_count": 43,
      "outputs": [
        {
          "output_type": "stream",
          "name": "stdout",
          "text": [
            "Accuracy:  0.53\n",
            "Navie Bayes accuracy on train data:  79 %\n",
            "Navie Bayes accuracy on test data:  53 %\n",
            "              precision    recall  f1-score   support\n",
            "\n",
            "          -1       0.80      0.61      0.69       180\n",
            "           0       0.14      0.29      0.19        34\n",
            "           1       0.44      0.45      0.45        86\n",
            "\n",
            "    accuracy                           0.53       300\n",
            "   macro avg       0.46      0.45      0.44       300\n",
            "weighted avg       0.62      0.53      0.57       300\n",
            "\n",
            "The Average Accuracy score for a ten-fold cross-validations is: 0.493989898989899\n"
          ]
        },
        {
          "output_type": "display_data",
          "data": {
            "image/png": "[encoded data removed]",
            "text/plain": [
              "<Figure size 432x288 with 2 Axes>"
            ]
          },
          "metadata": {
            "needs_background": "light"
          }
        }
      ]
    },
    {
      "cell_type": "code",
      "metadata": {
        "colab": {
          "base_uri": "https://localhost:8080/",
          "height": 515
        },
        "id": "IufdeLfgihbU",
        "outputId": "6d7f8bf6-f03e-40cd-d81d-22d5ddaa6470"
      },
      "source": [
        "svm_pipeline = Pipeline([('tfidf', TfidfVectorizer()),('model', SGDClassifier()),])\n",
        "svm_pipeline.fit(X_train,Y_train)\n",
        "\n",
        "Y_pred = svm_pipeline.predict(X_test)\n",
        "\n",
        "confusion_matrix = pd.crosstab(Y_test, Y_pred, rownames=['Actual'], colnames=['Predicted'])\n",
        "sn.heatmap(confusion_matrix, annot=True, cmap='inferno')\n",
        "print(\"SVM accuracy on train data: \", round(svm_pipeline.score(X_train,Y_train)*100), '%')\n",
        "print(\"SVM accuracy on test data: \", round(svm_pipeline.score(X_test,Y_test)*100), '%')\n",
        "print(classification_report(Y_pred, Y_test))\n",
        "print('The Average Accuracy score for a ten-fold cross-validations is:',cross_val_score(svm_pipeline, comment, sentiment, cv=10, scoring ='accuracy').mean())"
      ],
      "execution_count": 44,
      "outputs": [
        {
          "output_type": "stream",
          "name": "stdout",
          "text": [
            "SVM accuracy on train data:  82 %\n",
            "SVM accuracy on test data:  54 %\n",
            "              precision    recall  f1-score   support\n",
            "\n",
            "          -1       0.79      0.63      0.70       172\n",
            "           0       0.19      0.34      0.24        41\n",
            "           1       0.44      0.45      0.44        87\n",
            "\n",
            "    accuracy                           0.54       300\n",
            "   macro avg       0.47      0.47      0.46       300\n",
            "weighted avg       0.60      0.54      0.56       300\n",
            "\n",
            "The Average Accuracy score for a ten-fold cross-validations is: 0.47194949494949495\n"
          ]
        },
        {
          "output_type": "display_data",
          "data": {
            "image/png": "[encoded data removed]",
            "text/plain": [
              "<Figure size 432x288 with 2 Axes>"
            ]
          },
          "metadata": {
            "needs_background": "light"
          }
        }
      ]
    },
    {
      "cell_type": "code",
      "metadata": {
        "colab": {
          "base_uri": "https://localhost:8080/",
          "height": 515
        },
        "id": "KmTuOc4sinfB",
        "outputId": "d26b626c-23ad-4556-acde-02eff61475e9"
      },
      "source": [
        "DT_pipeline = Pipeline([('tfidf', TfidfVectorizer()),('model', DecisionTreeClassifier()),])\n",
        "DT_pipeline.fit(X_train,Y_train)\n",
        "\n",
        "Y_pred = DT_pipeline.predict(X_test)\n",
        "\n",
        "confusion_matrix = pd.crosstab(Y_test, Y_pred, rownames=['Actual'], colnames=['Predicted'])\n",
        "sn.heatmap(confusion_matrix, annot=True, cmap='inferno')\n",
        "print(\"Decision Tree accuracy on train data: \", round(DT_pipeline.score(X_train,Y_train)*100), '%')\n",
        "print(\"Decision Tree accuracy on test data: \", round(DT_pipeline.score(X_test,Y_test)*100), '%')\n",
        "print(classification_report(Y_pred, Y_test))\n",
        "print('The Average Accuracy score for a ten-fold cross-validations is:',cross_val_score(DT_pipeline, comment, sentiment, cv=10, scoring ='accuracy').mean())"
      ],
      "execution_count": 45,
      "outputs": [
        {
          "output_type": "stream",
          "name": "stdout",
          "text": [
            "Decision Tree accuracy on train data:  85 %\n",
            "Decision Tree accuracy on test data:  55 %\n",
            "              precision    recall  f1-score   support\n",
            "\n",
            "          -1       0.84      0.62      0.71       186\n",
            "           0       0.31      0.40      0.35        57\n",
            "           1       0.31      0.49      0.38        57\n",
            "\n",
            "    accuracy                           0.55       300\n",
            "   macro avg       0.49      0.50      0.48       300\n",
            "weighted avg       0.64      0.55      0.58       300\n",
            "\n",
            "The Average Accuracy score for a ten-fold cross-validations is: 0.48096969696969694\n"
          ]
        },
        {
          "output_type": "display_data",
          "data": {
            "image/png": "[encoded data removed]",
            "text/plain": [
              "<Figure size 432x288 with 2 Axes>"
            ]
          },
          "metadata": {
            "needs_background": "light"
          }
        }
      ]
    },
    {
      "cell_type": "code",
      "metadata": {
        "colab": {
          "base_uri": "https://localhost:8080/",
          "height": 515
        },
        "id": "KTo17uIDiupV",
        "outputId": "f8749346-7362-416b-b064-d0e1a53cb6cd"
      },
      "source": [
        "RF_pipeline = Pipeline([('tfidf', TfidfVectorizer()),('model', RandomForestClassifier()),])\n",
        "RF_pipeline.fit(X_train,Y_train)\n",
        "\n",
        "Y_pred = RF_pipeline.predict(X_test)\n",
        "\n",
        "confusion_matrix = pd.crosstab(Y_test, Y_pred, rownames=['Actual'], colnames=['Predicted'])\n",
        "sn.heatmap(confusion_matrix, annot=True, cmap='inferno')\n",
        "print(\"Random Forest accuracy on train data: \", round(RF_pipeline.score(X_train,Y_train)*100), '%')\n",
        "print(\"Random Forest accuracy on test data: \", round(RF_pipeline.score(X_test,Y_test)*100), '%')\n",
        "print(classification_report(Y_pred, Y_test))\n",
        "print('The Average Accuracy score for a ten-fold cross-validations is:',cross_val_score(RF_pipeline, comment, sentiment, cv=10, scoring ='accuracy').mean())"
      ],
      "execution_count": 46,
      "outputs": [
        {
          "output_type": "stream",
          "name": "stdout",
          "text": [
            "Random Forest accuracy on train data:  85 %\n",
            "Random Forest accuracy on test data:  56 %\n",
            "              precision    recall  f1-score   support\n",
            "\n",
            "          -1       0.85      0.62      0.72       189\n",
            "           0       0.23      0.39      0.29        44\n",
            "           1       0.37      0.49      0.42        67\n",
            "\n",
            "    accuracy                           0.56       300\n",
            "   macro avg       0.48      0.50      0.48       300\n",
            "weighted avg       0.65      0.56      0.59       300\n",
            "\n",
            "The Average Accuracy score for a ten-fold cross-validations is: 0.4819494949494949\n"
          ]
        },
        {
          "output_type": "display_data",
          "data": {
            "image/png": "[encoded data removed]",
            "text/plain": [
              "<Figure size 432x288 with 2 Axes>"
            ]
          },
          "metadata": {
            "needs_background": "light"
          }
        }
      ]
    },
    {
      "cell_type": "code",
      "metadata": {
        "colab": {
          "base_uri": "https://localhost:8080/",
          "height": 515
        },
        "id": "Vka-FEcri3Jw",
        "outputId": "8e3d45ff-ea1e-4438-d8f8-44533969ec29"
      },
      "source": [
        "LR_pipeline = Pipeline([('tfidf', TfidfVectorizer()),('model', LogisticRegression()),])\n",
        "LR_pipeline.fit(X_train,Y_train)\n",
        "\n",
        "Y_pred = LR_pipeline.predict(X_test)\n",
        "\n",
        "confusion_matrix = pd.crosstab(Y_test, Y_pred, rownames=['Actual'], colnames=['Predicted'])\n",
        "sn.heatmap(confusion_matrix, annot=True, cmap='inferno')\n",
        "print(\"Logestic Regression accuracy on train data: \", round(LR_pipeline.score(X_train,Y_train)*100), '%')\n",
        "print(\"Logestic Regression accuracy on test data: \", round(LR_pipeline.score(X_test,Y_test)*100), '%')\n",
        "print(classification_report(Y_pred, Y_test))\n",
        "print('The Average Accuracy score for a ten-fold cross-validations is:',cross_val_score(LR_pipeline, comment, sentiment, cv=10, scoring ='accuracy').mean())"
      ],
      "execution_count": 47,
      "outputs": [
        {
          "output_type": "stream",
          "name": "stdout",
          "text": [
            "Logestic Regression accuracy on train data:  79 %\n",
            "Logestic Regression accuracy on test data:  54 %\n",
            "              precision    recall  f1-score   support\n",
            "\n",
            "          -1       0.82      0.60      0.69       188\n",
            "           0       0.19      0.34      0.24        41\n",
            "           1       0.39      0.49      0.44        71\n",
            "\n",
            "    accuracy                           0.54       300\n",
            "   macro avg       0.47      0.48      0.46       300\n",
            "weighted avg       0.63      0.54      0.57       300\n",
            "\n",
            "The Average Accuracy score for a ten-fold cross-validations is: 0.490010101010101\n"
          ]
        },
        {
          "output_type": "display_data",
          "data": {
            "image/png": "[encoded data removed]",
            "text/plain": [
              "<Figure size 432x288 with 2 Axes>"
            ]
          },
          "metadata": {
            "needs_background": "light"
          }
        }
      ]
    },
    {
      "cell_type": "markdown",
      "source": [
        "#Single annotation models"
      ],
      "metadata": {
        "id": "LSMV6vEGbS0Q"
      }
    },
    {
      "cell_type": "code",
      "source": [
        "comment = data[\"Clean_Comment\"]\n",
        "sentiment = data[\"Single_Sentiments\"]"
      ],
      "metadata": {
        "id": "DNIuKyDDbVeP"
      },
      "execution_count": 48,
      "outputs": []
    },
    {
      "cell_type": "code",
      "source": [
        "X_train, X_test, Y_train, Y_test = train_test_split(comment,sentiment, test_size = 0.3, random_state = 60,shuffle=True,stratify=sentiment)"
      ],
      "metadata": {
        "id": "6ArcfVPAbeig"
      },
      "execution_count": 49,
      "outputs": []
    },
    {
      "cell_type": "code",
      "source": [
        "nb_pipeline = Pipeline([('tfidf', TfidfVectorizer()), ('model', MultinomialNB()),])\n",
        "nb_pipeline.fit(X_train,Y_train)\n",
        "\n",
        "Y_pred = nb_pipeline.predict(X_test)\n",
        "\n",
        "confusion_matrix = pd.crosstab(Y_test, Y_pred, rownames=['Actual'], colnames=['Predicted'])\n",
        "sn.heatmap(confusion_matrix, annot=True, cmap='inferno')\n",
        "print(\"Navie Bayes accuracy on train data: \", round(nb_pipeline.score(X_train,Y_train)*100), '%')\n",
        "print(\"Navie Bayes accuracy on test data: \", round(nb_pipeline.score(X_test,Y_test)*100), '%')\n",
        "print(classification_report(Y_pred, Y_test))\n",
        "print('The Average Accuracy score for a ten-fold cross-validations is:',cross_val_score(nb_pipeline, comment, sentiment, cv=10, scoring ='accuracy').mean())"
      ],
      "metadata": {
        "colab": {
          "base_uri": "https://localhost:8080/",
          "height": 515
        },
        "id": "qID675PUbhSQ",
        "outputId": "e4993dfd-5254-44e0-fd3c-ce114bacb2ab"
      },
      "execution_count": 50,
      "outputs": [
        {
          "output_type": "stream",
          "name": "stdout",
          "text": [
            "Navie Bayes accuracy on train data:  76 %\n",
            "Navie Bayes accuracy on test data:  56 %\n",
            "              precision    recall  f1-score   support\n",
            "\n",
            "          -1       0.89      0.58      0.70       217\n",
            "           0       0.26      0.62      0.37        34\n",
            "           1       0.29      0.47      0.36        49\n",
            "\n",
            "    accuracy                           0.56       300\n",
            "   macro avg       0.48      0.55      0.47       300\n",
            "weighted avg       0.72      0.56      0.61       300\n",
            "\n",
            "The Average Accuracy score for a ten-fold cross-validations is: 0.5231919191919192\n"
          ]
        },
        {
          "output_type": "display_data",
          "data": {
            "image/png": "[encoded data removed]",
            "text/plain": [
              "<Figure size 432x288 with 2 Axes>"
            ]
          },
          "metadata": {
            "needs_background": "light"
          }
        }
      ]
    },
    {
      "cell_type": "code",
      "source": [
        "svm_pipeline = Pipeline([('tfidf', TfidfVectorizer()),('model', SGDClassifier()),])\n",
        "svm_pipeline.fit(X_train,Y_train)\n",
        "\n",
        "Y_pred = svm_pipeline.predict(X_test)\n",
        "\n",
        "confusion_matrix = pd.crosstab(Y_test, Y_pred, rownames=['Actual'], colnames=['Predicted'])\n",
        "sn.heatmap(confusion_matrix, annot=True, cmap='inferno')\n",
        "print(\"SVM accuracy on train data: \", round(svm_pipeline.score(X_train,Y_train)*100), '%')\n",
        "print(\"SVM accuracy on test data: \", round(svm_pipeline.score(X_test,Y_test)*100), '%')\n",
        "print(classification_report(Y_pred, Y_test))\n",
        "print('The Average Accuracy score for a ten-fold cross-validations is:',cross_val_score(svm_pipeline, comment, sentiment, cv=10, scoring ='accuracy').mean())"
      ],
      "metadata": {
        "colab": {
          "base_uri": "https://localhost:8080/",
          "height": 517
        },
        "id": "fq4LVw_Qbh-L",
        "outputId": "5dc5aea2-b29c-4ccb-a9a0-bbe6896545af"
      },
      "execution_count": 51,
      "outputs": [
        {
          "output_type": "stream",
          "name": "stdout",
          "text": [
            "SVM accuracy on train data:  98 %\n",
            "SVM accuracy on test data:  63 %\n",
            "              precision    recall  f1-score   support\n",
            "\n",
            "          -1       0.72      0.75      0.74       134\n",
            "           0       0.49      0.56      0.52        72\n",
            "           1       0.61      0.51      0.55        94\n",
            "\n",
            "    accuracy                           0.63       300\n",
            "   macro avg       0.61      0.61      0.61       300\n",
            "weighted avg       0.63      0.63      0.63       300\n",
            "\n",
            "The Average Accuracy score for a ten-fold cross-validations is: 0.5492525252525252\n"
          ]
        },
        {
          "output_type": "display_data",
          "data": {
            "image/png": "[encoded data removed]",
            "text/plain": [
              "<Figure size 432x288 with 2 Axes>"
            ]
          },
          "metadata": {
            "needs_background": "light"
          }
        }
      ]
    },
    {
      "cell_type": "code",
      "source": [
        "DT_pipeline = Pipeline([('tfidf', TfidfVectorizer()),('model', DecisionTreeClassifier()),])\n",
        "DT_pipeline.fit(X_train,Y_train)\n",
        "\n",
        "Y_pred = DT_pipeline.predict(X_test)\n",
        "\n",
        "confusion_matrix = pd.crosstab(Y_test, Y_pred, rownames=['Actual'], colnames=['Predicted'])\n",
        "sn.heatmap(confusion_matrix, annot=True, cmap='inferno')\n",
        "print(\"Decision Tree accuracy on train data: \", round(DT_pipeline.score(X_train,Y_train)*100), '%')\n",
        "print(\"Decision Tree accuracy on test data: \", round(DT_pipeline.score(X_test,Y_test)*100), '%')\n",
        "print(classification_report(Y_pred, Y_test))\n",
        "print('The Average Accuracy score for a ten-fold cross-validations is:',cross_val_score(DT_pipeline, comment, sentiment, cv=10, scoring ='accuracy').mean())"
      ],
      "metadata": {
        "colab": {
          "base_uri": "https://localhost:8080/",
          "height": 515
        },
        "id": "poqbEp4Iblhr",
        "outputId": "04dedca9-c9a3-4331-e17a-8c0c42a74e60"
      },
      "execution_count": 52,
      "outputs": [
        {
          "output_type": "stream",
          "name": "stdout",
          "text": [
            "Decision Tree accuracy on train data:  100 %\n",
            "Decision Tree accuracy on test data:  57 %\n",
            "              precision    recall  f1-score   support\n",
            "\n",
            "          -1       0.69      0.72      0.70       133\n",
            "           0       0.48      0.44      0.46        88\n",
            "           1       0.47      0.47      0.47        79\n",
            "\n",
            "    accuracy                           0.57       300\n",
            "   macro avg       0.55      0.54      0.54       300\n",
            "weighted avg       0.57      0.57      0.57       300\n",
            "\n",
            "The Average Accuracy score for a ten-fold cross-validations is: 0.5462424242424242\n"
          ]
        },
        {
          "output_type": "display_data",
          "data": {
            "image/png": "[encoded data removed]",
            "text/plain": [
              "<Figure size 432x288 with 2 Axes>"
            ]
          },
          "metadata": {
            "needs_background": "light"
          }
        }
      ]
    },
    {
      "cell_type": "code",
      "source": [
        "RF_pipeline = Pipeline([('tfidf', TfidfVectorizer()),('model', RandomForestClassifier()),])\n",
        "RF_pipeline.fit(X_train,Y_train)\n",
        "\n",
        "Y_pred = RF_pipeline.predict(X_test)\n",
        "\n",
        "confusion_matrix = pd.crosstab(Y_test, Y_pred, rownames=['Actual'], colnames=['Predicted'])\n",
        "sn.heatmap(confusion_matrix, annot=True, cmap='inferno')\n",
        "print(\"Random Forest accuracy on train data: \", round(RF_pipeline.score(X_train,Y_train)*100), '%')\n",
        "print(\"Random Forest accuracy on test data: \", round(RF_pipeline.score(X_test,Y_test)*100), '%')\n",
        "print(classification_report(Y_pred, Y_test))\n",
        "print('The Average Accuracy score for a ten-fold cross-validations is:',cross_val_score(RF_pipeline, comment, sentiment, cv=10, scoring ='accuracy').mean())"
      ],
      "metadata": {
        "colab": {
          "base_uri": "https://localhost:8080/",
          "height": 515
        },
        "id": "hENdesjtbp0_",
        "outputId": "8ef2aaa3-cff4-4180-954a-aca0fa3604d9"
      },
      "execution_count": 53,
      "outputs": [
        {
          "output_type": "stream",
          "name": "stdout",
          "text": [
            "Random Forest accuracy on train data:  100 %\n",
            "Random Forest accuracy on test data:  60 %\n",
            "              precision    recall  f1-score   support\n",
            "\n",
            "          -1       0.81      0.68      0.74       167\n",
            "           0       0.42      0.60      0.49        57\n",
            "           1       0.43      0.45      0.44        76\n",
            "\n",
            "    accuracy                           0.60       300\n",
            "   macro avg       0.55      0.57      0.56       300\n",
            "weighted avg       0.64      0.60      0.61       300\n",
            "\n",
            "The Average Accuracy score for a ten-fold cross-validations is: 0.6013131313131312\n"
          ]
        },
        {
          "output_type": "display_data",
          "data": {
            "image/png": "[encoded data removed]",
            "text/plain": [
              "<Figure size 432x288 with 2 Axes>"
            ]
          },
          "metadata": {
            "needs_background": "light"
          }
        }
      ]
    },
    {
      "cell_type": "code",
      "source": [
        "LR_pipeline = Pipeline([('tfidf', TfidfVectorizer()),('model', LogisticRegression()),])\n",
        "LR_pipeline.fit(X_train,Y_train)\n",
        "\n",
        "Y_pred = LR_pipeline.predict(X_test)\n",
        "\n",
        "confusion_matrix = pd.crosstab(Y_test, Y_pred, rownames=['Actual'], colnames=['Predicted'])\n",
        "sn.heatmap(confusion_matrix, annot=True, cmap='inferno')\n",
        "print(\"Logestic Regression accuracy on train data: \", round(LR_pipeline.score(X_train,Y_train)*100), '%')\n",
        "print(\"Logestic Regression accuracy on test data: \", round(LR_pipeline.score(X_test,Y_test)*100), '%')\n",
        "print(classification_report(Y_pred, Y_test))\n",
        "print('The Average Accuracy score for a ten-fold cross-validations is:',cross_val_score(LR_pipeline, comment, sentiment, cv=10, scoring ='accuracy').mean())"
      ],
      "metadata": {
        "colab": {
          "base_uri": "https://localhost:8080/",
          "height": 515
        },
        "id": "JnuxXlT2brpW",
        "outputId": "b0540a11-2c4d-4e30-b82d-84445748fea7"
      },
      "execution_count": 54,
      "outputs": [
        {
          "output_type": "stream",
          "name": "stdout",
          "text": [
            "Logestic Regression accuracy on train data:  91 %\n",
            "Logestic Regression accuracy on test data:  62 %\n",
            "              precision    recall  f1-score   support\n",
            "\n",
            "          -1       0.80      0.70      0.75       160\n",
            "           0       0.44      0.59      0.51        61\n",
            "           1       0.47      0.47      0.47        79\n",
            "\n",
            "    accuracy                           0.62       300\n",
            "   macro avg       0.57      0.59      0.57       300\n",
            "weighted avg       0.64      0.62      0.62       300\n",
            "\n",
            "The Average Accuracy score for a ten-fold cross-validations is: 0.5982828282828283\n"
          ]
        },
        {
          "output_type": "display_data",
          "data": {
            "image/png": "[encoded data removed]",
            "text/plain": [
              "<Figure size 432x288 with 2 Axes>"
            ]
          },
          "metadata": {
            "needs_background": "light"
          }
        }
      ]
    }
  ]
}